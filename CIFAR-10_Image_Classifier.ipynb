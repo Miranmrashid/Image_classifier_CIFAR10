{
 "cells": [
  {
   "cell_type": "markdown",
   "metadata": {},
   "source": [
    "# Introduction\n",
    "\n",
    "In this project, you will build a neural network of your own design to evaluate the CIFAR-10 dataset.\n",
    "\n",
    "To meet the requirements for this project, you will need to achieve an accuracy greater than 45%. \n",
    "If you want to beat Detectocorp's algorithm, you'll need to achieve an accuracy greater than 70%. \n",
    "(Beating Detectocorp's algorithm is not a requirement for passing this project, but you're encouraged to try!)\n",
    "\n",
    "Some of the benchmark results on CIFAR-10 include:\n",
    "\n",
    "78.9% Accuracy | [Deep Belief Networks; Krizhevsky, 2010](https://www.cs.toronto.edu/~kriz/conv-cifar10-aug2010.pdf)\n",
    "\n",
    "90.6% Accuracy | [Maxout Networks; Goodfellow et al., 2013](https://arxiv.org/pdf/1302.4389.pdf)\n",
    "\n",
    "96.0% Accuracy | [Wide Residual Networks; Zagoruyko et al., 2016](https://arxiv.org/pdf/1605.07146.pdf)\n",
    "\n",
    "99.0% Accuracy | [GPipe; Huang et al., 2018](https://arxiv.org/pdf/1811.06965.pdf)\n",
    "\n",
    "98.5% Accuracy | [Rethinking Recurrent Neural Networks and other Improvements for ImageClassification; Nguyen et al., 2020](https://arxiv.org/pdf/2007.15161.pdf)\n",
    "\n",
    "Research with this dataset is ongoing. Notably, many of these networks are quite large and quite expensive to train. \n",
    "\n",
    "## Imports"
   ]
  },
  {
   "cell_type": "code",
   "execution_count": 1,
   "metadata": {},
   "outputs": [],
   "source": [
    "## This cell contains the essential imports you will need – DO NOT CHANGE THE CONTENTS! ##\n",
    "import torch\n",
    "import torch.nn as nn\n",
    "import torch.nn.functional as F\n",
    "import torch.optim as optim\n",
    "import torchvision\n",
    "from torchvision import datasets,models\n",
    "import torchvision.transforms as transforms\n",
    "import matplotlib.pyplot as plt\n",
    "import numpy as np\n"
   ]
  },
  {
   "cell_type": "code",
   "execution_count": 2,
   "metadata": {},
   "outputs": [
    {
     "name": "stdout",
     "output_type": "stream",
     "text": [
      "0.4.0\n"
     ]
    }
   ],
   "source": [
    "print(torch.__version__)"
   ]
  },
  {
   "cell_type": "markdown",
   "metadata": {},
   "source": [
    "## Load the Dataset\n",
    "\n",
    "Specify your transforms as a list first.\n",
    "The transforms module is already loaded as `transforms`.\n",
    "\n",
    "CIFAR-10 is fortunately included in the torchvision module.\n",
    "Then, you can create your dataset using the `CIFAR10` object from `torchvision.datasets` ([the documentation is available here](https://pytorch.org/vision/stable/generated/torchvision.datasets.CIFAR10.html)).\n",
    "Make sure to specify `download=True`! \n",
    "\n",
    "Once your dataset is created, you'll also need to define a `DataLoader` from the `torch.utils.data` module for both the train and the test set."
   ]
  },
  {
   "cell_type": "code",
   "execution_count": 3,
   "metadata": {},
   "outputs": [
    {
     "name": "stdout",
     "output_type": "stream",
     "text": [
      "Files already downloaded and verified\n",
      "Files already downloaded and verified\n"
     ]
    }
   ],
   "source": [
    "from torchvision import datasets\n",
    "import torchvision.transforms as transforms\n",
    "from torch.utils.data.sampler import SubsetRandomSampler\n",
    "\n",
    "# number of subprocesses to use for data loading\n",
    "num_workers = 0\n",
    "# how many samples per batch to load\n",
    "batch_size = 20\n",
    "# percentage of training set to use as validation\n",
    "valid_size = 0.2\n",
    "\n",
    "# convert data to a normalized torch.FloatTensor\n",
    "transform = transforms.Compose([transforms.RandomHorizontalFlip(),\n",
    "                                transforms.RandomVerticalFlip(),\n",
    "                                transforms.ToTensor(),\n",
    "                                transforms.Normalize((0.5, 0.5, 0.5), (0.5, 0.5, 0.5))\n",
    "    ])\n",
    "\n",
    "# choose the training and test datasets\n",
    "train_data = datasets.CIFAR10('data', train=True,\n",
    "                              download=True, transform=transform)\n",
    "test_data = datasets.CIFAR10('data', train=False,\n",
    "                             download=True, transform=transform)\n",
    "\n",
    "# obtain training indices that will be used for validation\n",
    "num_train = len(train_data)\n",
    "indices = list(range(num_train))\n",
    "np.random.shuffle(indices)\n",
    "split = int(np.floor(valid_size * num_train))\n",
    "train_idx, valid_idx = indices[split:], indices[:split]\n",
    "\n",
    "# define samplers for obtaining training and validation batches\n",
    "train_sampler = SubsetRandomSampler(train_idx)\n",
    "valid_sampler = SubsetRandomSampler(valid_idx)\n",
    "\n",
    "# prepare data loaders (combine dataset and sampler)\n",
    "train_set = torch.utils.data.DataLoader(train_data, batch_size=batch_size,\n",
    "    sampler=train_sampler, num_workers=num_workers)\n",
    "val_set = torch.utils.data.DataLoader(train_data, batch_size=batch_size, \n",
    "    sampler=valid_sampler, num_workers=num_workers)\n",
    "test_set = torch.utils.data.DataLoader(test_data, batch_size=batch_size, \n",
    "    num_workers=num_workers)\n",
    "\n",
    "# specify the image classes\n",
    "classes = ('plane', 'car', 'bird', 'cat', 'deer', 'dog', 'frog', 'horse', 'ship', 'truck')"
   ]
  },
  {
   "cell_type": "markdown",
   "metadata": {},
   "source": [
    "## Explore the Dataset\n",
    "Using matplotlib, numpy, and torch, explore the dimensions of your data.\n",
    "\n",
    "You can view images using the `show5` function defined below – it takes a data loader as an argument.\n",
    "Remember that normalized images will look really weird to you! You may want to try changing your transforms to view images.\n",
    "Typically using no transforms other than `toTensor()` works well for viewing – but not as well for training your network.\n",
    "If `show5` doesn't work, go back and check your code for creating your data loaders and your training/test sets."
   ]
  },
  {
   "cell_type": "code",
   "execution_count": 4,
   "metadata": {},
   "outputs": [],
   "source": [
    "\n",
    "    \n",
    "def show5(img_loader):\n",
    "    dataiter = iter(img_loader)\n",
    "    images, labels = dataiter.next()\n",
    "    images = images.numpy()# convert images to numpy for display\n",
    "    \n",
    "\n",
    "    # plot the images in the batch, along with the corresponding labels\n",
    "    fig = plt.figure(figsize=(25, 4))\n",
    "    # display 5 images\n",
    "    for idx in np.arange(5):\n",
    "        ax = fig.add_subplot(2, 20/2, idx+1, xticks=[], yticks=[])\n",
    "        \n",
    "        images[idx] = images[idx] / 2 + 0.5  # unnormalize\n",
    "        plt.imshow(np.transpose(images[idx], (1, 2, 0)))\n",
    "        ax.set_title(classes[labels[idx]])"
   ]
  },
  {
   "cell_type": "code",
   "execution_count": 5,
   "metadata": {},
   "outputs": [
    {
     "data": {
      "image/png": "[encoded data removed]",
      "text/plain": [
       "<matplotlib.figure.Figure at 0x7f1aacb33f98>"
      ]
     },
     "metadata": {},
     "output_type": "display_data"
    }
   ],
   "source": [
    "show5(test_set)"
   ]
  },
  {
   "cell_type": "code",
   "execution_count": 6,
   "metadata": {},
   "outputs": [
    {
     "name": "stdout",
     "output_type": "stream",
     "text": [
      "Number of images in the training set: 50000\n",
      "Number of images in the test set: 10000\n",
      "Total number of images in the CIFAR-10 dataset: 60000\n"
     ]
    }
   ],
   "source": [
    "# Explore data\n",
    "# Check the sizes of the datasets\n",
    "print('Number of images in the training set:', len(train_data))\n",
    "\n",
    "print('Number of images in the test set:', len(test_data))\n",
    "print('Total number of images in the CIFAR-10 dataset:', len(train_data)+len(test_data))"
   ]
  },
  {
   "cell_type": "markdown",
   "metadata": {},
   "source": [
    "## Build your Neural Network\n",
    "Using the layers in `torch.nn` (which has been imported as `nn`) and the `torch.nn.functional` module (imported as `F`), construct a neural network based on the parameters of the dataset. \n",
    "Feel free to construct a model of any architecture – feedforward, convolutional, or even something more advanced!"
   ]
  },
  {
   "cell_type": "code",
   "execution_count": 7,
   "metadata": {},
   "outputs": [
    {
     "name": "stdout",
     "output_type": "stream",
     "text": [
      "classifier(\n",
      "  (conv1): Conv2d(3, 6, kernel_size=(3, 3), stride=(1, 1), padding=(1, 1))\n",
      "  (bn1): BatchNorm2d(6, eps=1e-05, momentum=0.1, affine=True, track_running_stats=True)\n",
      "  (conv2): Conv2d(6, 12, kernel_size=(3, 3), stride=(1, 1), padding=(1, 1))\n",
      "  (bn2): BatchNorm2d(12, eps=1e-05, momentum=0.1, affine=True, track_running_stats=True)\n",
      "  (conv3): Conv2d(12, 36, kernel_size=(3, 3), stride=(1, 1), padding=(1, 1))\n",
      "  (bn3): BatchNorm2d(36, eps=1e-05, momentum=0.1, affine=True, track_running_stats=True)\n",
      "  (conv4): Conv2d(36, 64, kernel_size=(3, 3), stride=(1, 1), padding=(1, 1))\n",
      "  (bn4): BatchNorm2d(64, eps=1e-05, momentum=0.1, affine=True, track_running_stats=True)\n",
      "  (pool): MaxPool2d(kernel_size=2, stride=2, padding=0, dilation=1, ceil_mode=False)\n",
      "  (fc1): Linear(in_features=16384, out_features=1024, bias=True)\n",
      "  (fc2): Linear(in_features=1024, out_features=256, bias=True)\n",
      "  (fc3): Linear(in_features=256, out_features=64, bias=True)\n",
      "  (fc4): Linear(in_features=64, out_features=10, bias=True)\n",
      "  (dropout): Dropout(p=0.2)\n",
      ")\n"
     ]
    }
   ],
   "source": [
    "from torch import nn\n",
    "import torch.nn.functional as F\n",
    "class classifier(nn.Module):\n",
    "    def __init__(self):\n",
    "        super().__init__()\n",
    "        # convolutional layer\n",
    "        self.conv1=nn.Conv2d(3,6,3,padding=1)\n",
    "        self.bn1 = nn.BatchNorm2d(6)\n",
    "        self.conv2=nn.Conv2d(6,12,3,padding=1)\n",
    "        self.bn2 = nn.BatchNorm2d(12)\n",
    "        self.conv3=nn.Conv2d(12,36,3,padding=1)\n",
    "        self.bn3 = nn.BatchNorm2d(36)\n",
    "        self.conv4=nn.Conv2d(36,64,3,padding=1)\n",
    "        self.bn4 = nn.BatchNorm2d(64)\n",
    "        \n",
    "        # max pooling layer\n",
    "        self.pool = nn.MaxPool2d(2, 2)\n",
    "        \n",
    "        #linear layer \n",
    "        self.fc1 = nn.Linear(16384,1024)\n",
    "        self.fc2 = nn.Linear(1024,256)\n",
    "        self.fc3 = nn.Linear(256,64)\n",
    "        self.fc4 = nn.Linear(64, 10)\n",
    "        # dropout layer (p=0.2)\n",
    "        self.dropout = nn.Dropout(0.2)\n",
    "        \n",
    "        \n",
    "    def forward(self, x):\n",
    "        # add sequence of convolutional and max pooling layers\n",
    "        x = self.dropout(F.relu(self.bn1(self.conv1(x))))\n",
    "        x = self.dropout(F.relu(self.bn2(self.conv2(x))))\n",
    "        x = self.dropout(F.relu(self.bn3(self.conv3(x))))\n",
    "        x = self.dropout(F.relu(self.bn4(self.conv4(x))))\n",
    "        x = self.pool(x)\n",
    "        # flatten image input\n",
    "        x = x.view(x.shape[0], -1)\n",
    "    #print(x.shape)\n",
    "        # add dropout layer\n",
    "        \n",
    "        # add 1st hidden layer, with relu activation function\n",
    "        x = F.relu(self.fc1(x))\n",
    "        # add dropout layer\n",
    "        x = self.dropout(x)\n",
    "        # add 2nd hidden layer, with relu activation function\n",
    "        x = F.relu(self.fc2(x))\n",
    "        # add dropout layer\n",
    "        x = self.dropout(x)\n",
    "        # add 3rd hidden layer, with relu activation function\n",
    "        x = F.relu(self.fc3(x))\n",
    "        # add dropout layer\n",
    "        x = self.dropout(x)\n",
    "        # add output layer, with  LOG_SOFTMAX activation function\n",
    "        x = F.log_softmax(self.fc4(x),dim=1)\n",
    "        # add dropout layer\n",
    "        \n",
    "        return x\n",
    "        \n",
    "            \n",
    "            \n",
    "model = classifier()\n",
    "print(model)            \n",
    "    \n",
    "\n"
   ]
  },
  {
   "cell_type": "markdown",
   "metadata": {},
   "source": [
    "Specify a loss function and an optimizer, and instantiate the model.\n",
    "\n",
    "If you use a less common loss function, please note why you chose that loss function in a comment."
   ]
  },
  {
   "cell_type": "code",
   "execution_count": 8,
   "metadata": {},
   "outputs": [],
   "source": [
    "import torch.optim as optim\n",
    "\n",
    "# specify loss function (categorical cross-entropy)\n",
    "criterion = nn.NLLLoss()\n",
    "\n",
    "# specify optimizer\n",
    "optimizer = optim.Adam(model.parameters(), lr=0.001)"
   ]
  },
  {
   "cell_type": "markdown",
   "metadata": {},
   "source": [
    "## Running your Neural Network\n",
    "Use whatever method you like to train your neural network, and ensure you record the average loss at each epoch. \n",
    "Don't forget to use `torch.device()` and the `.to()` method for both your model and your data if you are using GPU!\n",
    "\n",
    "If you want to print your loss during each epoch, you can use the `enumerate` function and print the loss after a set number of batches. 250 batches works well for most people!"
   ]
  },
  {
   "cell_type": "code",
   "execution_count": 9,
   "metadata": {},
   "outputs": [
    {
     "name": "stdout",
     "output_type": "stream",
     "text": [
      "Running on cuda\n"
     ]
    },
    {
     "data": {
      "text/plain": [
       "classifier(\n",
       "  (conv1): Conv2d(3, 6, kernel_size=(3, 3), stride=(1, 1), padding=(1, 1))\n",
       "  (bn1): BatchNorm2d(6, eps=1e-05, momentum=0.1, affine=True, track_running_stats=True)\n",
       "  (conv2): Conv2d(6, 12, kernel_size=(3, 3), stride=(1, 1), padding=(1, 1))\n",
       "  (bn2): BatchNorm2d(12, eps=1e-05, momentum=0.1, affine=True, track_running_stats=True)\n",
       "  (conv3): Conv2d(12, 36, kernel_size=(3, 3), stride=(1, 1), padding=(1, 1))\n",
       "  (bn3): BatchNorm2d(36, eps=1e-05, momentum=0.1, affine=True, track_running_stats=True)\n",
       "  (conv4): Conv2d(36, 64, kernel_size=(3, 3), stride=(1, 1), padding=(1, 1))\n",
       "  (bn4): BatchNorm2d(64, eps=1e-05, momentum=0.1, affine=True, track_running_stats=True)\n",
       "  (pool): MaxPool2d(kernel_size=2, stride=2, padding=0, dilation=1, ceil_mode=False)\n",
       "  (fc1): Linear(in_features=16384, out_features=1024, bias=True)\n",
       "  (fc2): Linear(in_features=1024, out_features=256, bias=True)\n",
       "  (fc3): Linear(in_features=256, out_features=64, bias=True)\n",
       "  (fc4): Linear(in_features=64, out_features=10, bias=True)\n",
       "  (dropout): Dropout(p=0.2)\n",
       ")"
      ]
     },
     "execution_count": 9,
     "metadata": {},
     "output_type": "execute_result"
    }
   ],
   "source": [
    "# Use the GPU of the machine if available\n",
    "device = torch.device('cuda' if torch.cuda.is_available() else 'cpu')\n",
    "print('Running on', device)\n",
    "model.to(device)"
   ]
  },
  {
   "cell_type": "code",
   "execution_count": 10,
   "metadata": {
    "scrolled": true
   },
   "outputs": [
    {
     "name": "stdout",
     "output_type": "stream",
     "text": [
      "Epoch: 1/40..  Training Loss: 1.847..  Validation Loss: 1.599..  Validation Accuracy: 0.417\n",
      "Epoch: 2/40..  Training Loss: 1.579..  Validation Loss: 1.480..  Validation Accuracy: 0.477\n",
      "Epoch: 3/40..  Training Loss: 1.453..  Validation Loss: 1.329..  Validation Accuracy: 0.520\n",
      "Epoch: 4/40..  Training Loss: 1.350..  Validation Loss: 1.273..  Validation Accuracy: 0.545\n",
      "Epoch: 5/40..  Training Loss: 1.274..  Validation Loss: 1.164..  Validation Accuracy: 0.576\n",
      "Epoch: 6/40..  Training Loss: 1.219..  Validation Loss: 1.117..  Validation Accuracy: 0.617\n",
      "Epoch: 7/40..  Training Loss: 1.173..  Validation Loss: 1.078..  Validation Accuracy: 0.616\n",
      "Epoch: 8/40..  Training Loss: 1.140..  Validation Loss: 1.064..  Validation Accuracy: 0.627\n",
      "Epoch: 9/40..  Training Loss: 1.115..  Validation Loss: 1.046..  Validation Accuracy: 0.628\n",
      "Epoch: 10/40..  Training Loss: 1.082..  Validation Loss: 1.032..  Validation Accuracy: 0.635\n",
      "Epoch: 11/40..  Training Loss: 1.054..  Validation Loss: 0.988..  Validation Accuracy: 0.653\n",
      "Epoch: 12/40..  Training Loss: 1.036..  Validation Loss: 0.954..  Validation Accuracy: 0.665\n",
      "Epoch: 13/40..  Training Loss: 1.013..  Validation Loss: 0.984..  Validation Accuracy: 0.654\n",
      "Epoch: 14/40..  Training Loss: 1.000..  Validation Loss: 0.961..  Validation Accuracy: 0.661\n",
      "Epoch: 15/40..  Training Loss: 0.979..  Validation Loss: 0.953..  Validation Accuracy: 0.667\n",
      "Epoch: 16/40..  Training Loss: 0.961..  Validation Loss: 0.931..  Validation Accuracy: 0.674\n",
      "Epoch: 17/40..  Training Loss: 0.961..  Validation Loss: 0.953..  Validation Accuracy: 0.672\n",
      "Epoch: 18/40..  Training Loss: 0.938..  Validation Loss: 0.924..  Validation Accuracy: 0.682\n",
      "Epoch: 19/40..  Training Loss: 0.919..  Validation Loss: 0.893..  Validation Accuracy: 0.684\n",
      "Epoch: 20/40..  Training Loss: 0.913..  Validation Loss: 0.885..  Validation Accuracy: 0.691\n",
      "Epoch: 21/40..  Training Loss: 0.902..  Validation Loss: 0.876..  Validation Accuracy: 0.695\n",
      "Epoch: 22/40..  Training Loss: 0.888..  Validation Loss: 0.910..  Validation Accuracy: 0.682\n",
      "Epoch: 23/40..  Training Loss: 0.880..  Validation Loss: 0.893..  Validation Accuracy: 0.688\n",
      "Epoch: 24/40..  Training Loss: 0.875..  Validation Loss: 0.898..  Validation Accuracy: 0.684\n",
      "Epoch: 25/40..  Training Loss: 0.862..  Validation Loss: 0.863..  Validation Accuracy: 0.698\n",
      "Epoch: 26/40..  Training Loss: 0.857..  Validation Loss: 0.885..  Validation Accuracy: 0.694\n",
      "Epoch: 27/40..  Training Loss: 0.849..  Validation Loss: 0.875..  Validation Accuracy: 0.695\n",
      "Epoch: 28/40..  Training Loss: 0.841..  Validation Loss: 0.909..  Validation Accuracy: 0.684\n",
      "Epoch: 29/40..  Training Loss: 0.826..  Validation Loss: 0.876..  Validation Accuracy: 0.698\n",
      "Epoch: 30/40..  Training Loss: 0.819..  Validation Loss: 0.872..  Validation Accuracy: 0.697\n",
      "Epoch: 31/40..  Training Loss: 0.818..  Validation Loss: 0.860..  Validation Accuracy: 0.710\n",
      "Epoch: 32/40..  Training Loss: 0.805..  Validation Loss: 0.850..  Validation Accuracy: 0.704\n",
      "Epoch: 33/40..  Training Loss: 0.802..  Validation Loss: 0.869..  Validation Accuracy: 0.701\n",
      "Epoch: 34/40..  Training Loss: 0.792..  Validation Loss: 0.854..  Validation Accuracy: 0.703\n",
      "Epoch: 35/40..  Training Loss: 0.779..  Validation Loss: 0.871..  Validation Accuracy: 0.704\n",
      "Epoch: 36/40..  Training Loss: 0.771..  Validation Loss: 0.914..  Validation Accuracy: 0.683\n",
      "Epoch: 37/40..  Training Loss: 0.778..  Validation Loss: 0.931..  Validation Accuracy: 0.674\n",
      "Epoch: 38/40..  Training Loss: 0.769..  Validation Loss: 0.879..  Validation Accuracy: 0.696\n",
      "Epoch: 39/40..  Training Loss: 0.765..  Validation Loss: 0.847..  Validation Accuracy: 0.709\n",
      "Epoch: 40/40..  Training Loss: 0.758..  Validation Loss: 0.852..  Validation Accuracy: 0.708\n"
     ]
    }
   ],
   "source": [
    "\n",
    "epochs=40\n",
    "train_losses = []\n",
    "val_losses = []\n",
    "val_accuracies =[]\n",
    "\n",
    "for epoch in range(epochs):\n",
    "    running_loss = 0\n",
    "    for images, labels in train_set:\n",
    "        images, labels = images.to(device), labels.to(device)\n",
    "        optimizer.zero_grad()\n",
    "        \n",
    "        log_ps = model(images)\n",
    "        loss = criterion(log_ps, labels)\n",
    "        loss.backward()\n",
    "        optimizer.step()\n",
    "        \n",
    "        running_loss += loss.item()\n",
    "        \n",
    "    else:\n",
    "        val_loss = 0\n",
    "        accuracy = 0\n",
    "        \n",
    "        with torch.no_grad():\n",
    "            model.eval()\n",
    "            for images, labels in val_set:\n",
    "                images, labels = images.to(device), labels.to(device)\n",
    "                log_ps = model(images)\n",
    "                val_loss += criterion(log_ps, labels)\n",
    "                \n",
    "                ps = torch.exp(log_ps)\n",
    "                top_p, top_class = ps.topk(1, dim=1)\n",
    "                equals = top_class == labels.view(*top_class.shape)\n",
    "                accuracy += torch.mean(equals.type(torch.FloatTensor))\n",
    "        \n",
    "        model.train()\n",
    "        \n",
    "        train_losses.append(running_loss/len(train_set))\n",
    "        val_losses.append(val_loss/len(val_set))\n",
    "        val_accuracies.append(accuracy/len(val_set))\n",
    "\n",
    "        print('Epoch: {}/{}.. '.format(epoch+1, epochs),\n",
    "              'Training Loss: {:.3f}.. '.format(running_loss/len(train_set)),\n",
    "              'Validation Loss: {:.3f}.. '.format(val_loss/len(val_set)),\n",
    "              'Validation Accuracy: {:.3f}'.format(accuracy/len(val_set)))"
   ]
  },
  {
   "cell_type": "markdown",
   "metadata": {},
   "source": [
    "Plot the training loss (and validation loss/accuracy, if recorded)."
   ]
  },
  {
   "cell_type": "code",
   "execution_count": 19,
   "metadata": {},
   "outputs": [
    {
     "data": {
      "text/plain": [
       "<matplotlib.legend.Legend at 0x7f1a48c076a0>"
      ]
     },
     "execution_count": 19,
     "metadata": {},
     "output_type": "execute_result"
    },
    {
     "data": {
      "image/png": "[encoded data removed]",
      "text/plain": [
       "<matplotlib.figure.Figure at 0x7f1a44683b38>"
      ]
     },
     "metadata": {
      "needs_background": "light"
     },
     "output_type": "display_data"
    }
   ],
   "source": [
    "## YOUR CODE HERE ##\n",
    "plt.plot(train_losses, label='Training loss')\n",
    "plt.plot(val_losses, label='Validation loss')\n",
    "plt.axvline(x = 20, color = 'b', label = 'Start overfitting')\n",
    "plt.legend(frameon=False)"
   ]
  },
  {
   "cell_type": "markdown",
   "metadata": {},
   "source": [
    "## As can be seen from the graph above, we have to stop the training at 21st epoch\n"
   ]
  },
  {
   "cell_type": "code",
   "execution_count": 12,
   "metadata": {},
   "outputs": [
    {
     "data": {
      "image/png": "[encoded data removed]",
      "text/plain": [
       "<matplotlib.figure.Figure at 0x7f1a48b3de48>"
      ]
     },
     "metadata": {
      "needs_background": "light"
     },
     "output_type": "display_data"
    }
   ],
   "source": [
    "plt.plot(val_accuracies)\n",
    "plt.xlabel('Epocs')\n",
    "plt.ylabel('Accuracy')\n",
    "plt.title('Validation Accuracy of the model')\n",
    "plt.legend(frameon=False)\n",
    "plt.show()"
   ]
  },
  {
   "cell_type": "markdown",
   "metadata": {},
   "source": [
    "## Testing your model\n",
    "Using the previously created `DataLoader` for the test set, compute the percentage of correct predictions using the highest probability prediction. \n",
    "\n",
    "If your accuracy is over 70%, great work! \n",
    "This is a hard task to exceed 70% on.\n",
    "\n",
    "If your accuracy is under 45%, you'll need to make improvements.\n",
    "Go back and check your model architecture, loss function, and optimizer to make sure they're appropriate for an image classification task."
   ]
  },
  {
   "cell_type": "code",
   "execution_count": 13,
   "metadata": {},
   "outputs": [
    {
     "name": "stdout",
     "output_type": "stream",
     "text": [
      "Test Accuracy: 71.3%\n"
     ]
    }
   ],
   "source": [
    "test_accuracy = 0\n",
    "        \n",
    "with torch.no_grad():\n",
    "    \n",
    "    model.eval()\n",
    "    for images, labels in test_set:\n",
    "        images, labels = images.to(device), labels.to(device)\n",
    "        log_ps = model(images)\n",
    "        ps = torch.exp(log_ps)\n",
    "        top_p, top_class = ps.topk(1, dim=1)\n",
    "        equals = top_class == labels.view(*top_class.shape)\n",
    "        test_accuracy += torch.mean(equals.type(torch.FloatTensor))\n",
    "print('Test Accuracy: {:.1f}%'.format(test_accuracy/len(test_set)*100))"
   ]
  },
  {
   "cell_type": "markdown",
   "metadata": {},
   "source": [
    "## Saving your model\n",
    "Using `torch.save`, save your model for future loading."
   ]
  },
  {
   "cell_type": "code",
   "execution_count": 14,
   "metadata": {},
   "outputs": [],
   "source": [
    "model_checkpoint={'stat_dict':model.state_dict(),\n",
    "                 'optim_dict':optimizer.state_dict()}\n",
    "\n",
    "torch.save(model_checkpoint,'CIFAR10_model.pth')"
   ]
  },
  {
   "cell_type": "markdown",
   "metadata": {},
   "source": [
    "## Make a Recommendation\n",
    "\n",
    "Based on your evaluation, what is your recommendation on whether to build or buy? Explain your reasoning below.\n",
    "\n",
    "Some things to consider as you formulate your recommendation:\n",
    "* How does your model compare to Detectocorp's model?\n",
    "* How does it compare to the far more advanced solutions in the literature? \n",
    "* What did you do to get the accuracy you achieved? \n",
    "* Is it necessary to improve this accuracy? If so, what sort of work would be involved in improving it?"
   ]
  },
  {
   "cell_type": "markdown",
   "metadata": {},
   "source": [
    "As shown from the above result, we can easily obtain accuracy of 71.3% with a simple architecture. Moreover, there is more room for enhancing the model to achieve a higher accuracy rate. Nevertheless, our model's accuracy is lower than the advanced model such as GPipe, but from a computation perspective, our model is more efficient thanks to its simple architecture. Since our company is looking for %70 accuracy, we can enhance and deploy our model rather than buying Detectocorp’s algorithm.\n"
   ]
  },
  {
   "cell_type": "markdown",
   "metadata": {},
   "source": [
    "## Submit Your Project\n",
    "\n",
    "When you are finished editing the notebook and are ready to turn it in, simply click the **SUBMIT PROJECT** button in the lower right.\n",
    "\n",
    "Once you submit your project, we'll review your work and give you feedback if there's anything that you need to work on. If you'd like to see the exact points that your reviewer will check for when looking at your work, you can have a look over the project [rubric](https://review.udacity.com/#!/rubrics/3077/view)."
   ]
  },
  {
   "cell_type": "code",
   "execution_count": null,
   "metadata": {},
   "outputs": [],
   "source": []
  }
 ],
 "metadata": {
  "kernelspec": {
   "display_name": "Python 3",
   "language": "python",
   "name": "python3"
  },
  "language_info": {
   "codemirror_mode": {
    "name": "ipython",
    "version": 3
   },
   "file_extension": ".py",
   "mimetype": "text/x-python",
   "name": "python",
   "nbconvert_exporter": "python",
   "pygments_lexer": "ipython3",
   "version": "3.6.3"
  }
 },
 "nbformat": 4,
 "nbformat_minor": 4
}
